{
 "cells": [
  {
   "cell_type": "code",
   "execution_count": 3,
   "metadata": {},
   "outputs": [],
   "source": [
    "def solution(N):\n",
    "    max_gap = 0\n",
    "    current_gap = 0\n",
    " \n",
    "    # Skip the tailing zero(s)\n",
    "    while N > 0 and N%2 == 0:\n",
    "        N //= 2\n",
    " \n",
    "    while N > 0:\n",
    "        remainder = N%2\n",
    "        if remainder == 0:\n",
    "            # Inside a gap\n",
    "            current_gap += 1\n",
    "        else:\n",
    "            # Gap ends\n",
    "            if current_gap != 0:\n",
    "                max_gap = max(current_gap, max_gap)\n",
    "                current_gap = 0\n",
    "        N //= 2\n",
    " \n",
    "    return max_gap"
   ]
  },
  {
   "cell_type": "code",
   "execution_count": 5,
   "metadata": {},
   "outputs": [],
   "source": []
  },
  {
   "cell_type": "code",
   "execution_count": null,
   "metadata": {},
   "outputs": [],
   "source": []
  },
  {
   "cell_type": "code",
   "execution_count": null,
   "metadata": {},
   "outputs": [],
   "source": []
  }
 ],
 "metadata": {
  "kernelspec": {
   "display_name": "Python 3",
   "language": "python",
   "name": "python3"
  },
  "language_info": {
   "codemirror_mode": {
    "name": "ipython",
    "version": 3
   },
   "file_extension": ".py",
   "mimetype": "text/x-python",
   "name": "python",
   "nbconvert_exporter": "python",
   "pygments_lexer": "ipython3",
   "version": "3.6.4"
  }
 },
 "nbformat": 4,
 "nbformat_minor": 2
}
